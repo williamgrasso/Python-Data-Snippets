{
 "cells": [
  {
   "cell_type": "code",
   "execution_count": 57,
   "metadata": {},
   "outputs": [
    {
     "data": {
      "application/javascript": [
       "IPython.notebook.set_autosave_interval(120000)"
      ]
     },
     "metadata": {},
     "output_type": "display_data"
    },
    {
     "name": "stdout",
     "output_type": "stream",
     "text": [
      "Autosaving every 120 seconds\n"
     ]
    }
   ],
   "source": [
    "%autosave 120"
   ]
  },
  {
   "cell_type": "markdown",
   "metadata": {},
   "source": [
    "# Functions\n",
    "#### Write some reusable functions. Examples would be date, time, number, text formatting.\n",
    "#### Pandas functions that delete or create columns rows."
   ]
  },
  {
   "cell_type": "markdown",
   "metadata": {},
   "source": [
    "# Date Function"
   ]
  },
  {
   "cell_type": "markdown",
   "metadata": {},
   "source": [
    "### Now:"
   ]
  },
  {
   "cell_type": "code",
   "execution_count": 2,
   "metadata": {},
   "outputs": [
    {
     "data": {
      "text/plain": [
       "'2020-11-05 20:25:35.695968'"
      ]
     },
     "execution_count": 2,
     "metadata": {},
     "output_type": "execute_result"
    }
   ],
   "source": [
    "from datetime import date\n",
    "from datetime import time\n",
    "from datetime import datetime\n",
    "\n",
    "\n",
    "def current_date():\n",
    "    Now = str(datetime.now())\n",
    "    Time = str(datetime.time(datetime.now()))\n",
    "    return(Now)#, Time)\n",
    "\n",
    "current_date()\n",
    "\n",
    "#or easier to do\n",
    "\n",
    "#from datetime import datetime\n",
    "#str(datetime.now())"
   ]
  },
  {
   "cell_type": "markdown",
   "metadata": {},
   "source": [
    "# Calculate days in past"
   ]
  },
  {
   "cell_type": "markdown",
   "metadata": {},
   "source": [
    "- Need to create a difference between dates calculator"
   ]
  },
  {
   "cell_type": "code",
   "execution_count": 3,
   "metadata": {},
   "outputs": [
    {
     "name": "stdout",
     "output_type": "stream",
     "text": [
      "Add or subtract days? add\n",
      "How many days? 15\n"
     ]
    },
    {
     "data": {
      "text/plain": [
       "'11/20/20'"
      ]
     },
     "execution_count": 3,
     "metadata": {},
     "output_type": "execute_result"
    }
   ],
   "source": [
    "import datetime\n",
    "\n",
    "add = ['add', 'ad', '+', 'plus', 'a']\n",
    "sub = ['sub', 'su', '-', 'minus', 's', 'subt', 'subtr', 'subtra', 'subtrac', 'subtract']\n",
    "combo = add + sub\n",
    "\n",
    "def Calc_Days():\n",
    "    add_sub = input('Add or subtract days? ')\n",
    "    while add_sub not in combo:\n",
    "        add_sub = input('Add or subtract days? ')\n",
    "        \n",
    "    while True:\n",
    "        try:\n",
    "            how = int(input('How many days? '))\n",
    "            break\n",
    "        except ValueError:\n",
    "            continue   \n",
    "        \n",
    "    \n",
    "    Now = date.today()\n",
    "    if add_sub.lower() in sub:\n",
    "        Days = Now.toordinal() - how\n",
    "        final = datetime.date.fromordinal(Days)\n",
    "        final = final.strftime(\"%m/%d/%y\")\n",
    "    elif add_sub.lower() in add:\n",
    "        Days = Now.toordinal() + how\n",
    "        final = datetime.date.fromordinal(Days)\n",
    "        final = final.strftime(\"%m/%d/%y\")\n",
    "    return(final)\n",
    "\n",
    "Calc_Days()"
   ]
  },
  {
   "cell_type": "markdown",
   "metadata": {},
   "source": [
    "# Delete/Remove rows or columns"
   ]
  },
  {
   "cell_type": "markdown",
   "metadata": {},
   "source": [
    "#### Syntax:\n",
    "    DataFrame.drop(labels=None, axis=0, index=None, columns=None, level=None, inplace=False, errors=’raise’)\n",
    "\n",
    "#### Parameters:\n",
    "\n",
    "   - labels: String or list of strings referring row or column name.\n",
    "   - axis: int or string value, 0 ‘index’ for Rows and 1 ‘columns’ for Columns.\n",
    "   - index or columns: Single label or list. index or columns are an alternative to axis and cannot be used \n",
    "    together.\n",
    "   - level: Used to specify level in case data frame is having multiple level index.\n",
    "   - inplace: Makes changes in original Data Frame if True.\n",
    "   - errors: Ignores error if any value from the list doesn’t exists and drops rest of the values when errors = ‘ignore’\n",
    "\n",
    "    Return type: Dataframe with dropped values "
   ]
  },
  {
   "cell_type": "code",
   "execution_count": 1,
   "metadata": {},
   "outputs": [],
   "source": [
    "#Rows\n",
    "# importing pandas module \n",
    "import pandas as pd \n",
    "  \n",
    "# making data frame from csv file \n",
    "data = pd.read_csv(\"nba.csv\", index_col =\"Name\" ) \n",
    "  \n",
    "# dropping passed values Names are the Index values from this example\n",
    "data.drop([\"Avery Bradley\", \"John Holland\", \"R.J. Hunter\", \n",
    "                            \"R.J. Hunter\"], inplace = True) \n",
    "  \n",
    "# display \n",
    "data "
   ]
  },
  {
   "cell_type": "code",
   "execution_count": null,
   "metadata": {},
   "outputs": [],
   "source": [
    "#Columns\n",
    "# importing pandas module \n",
    "import pandas as pd \n",
    "  \n",
    "# making data frame from csv file \n",
    "data = pd.read_csv(\"nba.csv\", index_col =\"Name\" ) \n",
    "  \n",
    "# dropping passed columns. Team and Weight are column names in this example.\n",
    "# Specify Axis = 1 to indicate that we are dropping columns\n",
    "data.drop([\"Team\", \"Weight\"], axis = 1, inplace = True) \n",
    "  \n",
    "# display \n",
    "data "
   ]
  },
  {
   "cell_type": "markdown",
   "metadata": {},
   "source": [
    "# Add Columns"
   ]
  },
  {
   "cell_type": "markdown",
   "metadata": {},
   "source": [
    "### Add new column from a list (adds to end)"
   ]
  },
  {
   "cell_type": "code",
   "execution_count": null,
   "metadata": {},
   "outputs": [],
   "source": [
    "#Note that the length of your list should match the length of the index column otherwise it will show an error.\n",
    "\n",
    "# Import pandas package  \n",
    "import pandas as pd \n",
    "  \n",
    "# Define a dictionary containing Students data \n",
    "data = {'Name': ['Jai', 'Princi', 'Gaurav', 'Anuj'], \n",
    "        'Height': [5.1, 6.2, 5.1, 5.2], \n",
    "        'Qualification': ['Msc', 'MA', 'Msc', 'Msc']} \n",
    "  \n",
    "# Convert the dictionary into DataFrame \n",
    "df = pd.DataFrame(data) \n",
    "  \n",
    "# Declare a list that is to be converted into a column \n",
    "address = ['Delhi', 'Bangalore', 'Chennai', 'Patna'] \n",
    "  \n",
    "# Using 'Address' as the column name \n",
    "# and equating it to the list \n",
    "df['Address'] = address \n",
    "  \n",
    "# Observe the result \n",
    "df "
   ]
  },
  {
   "cell_type": "markdown",
   "metadata": {},
   "source": [
    "## Add using DataFrame.insert()"
   ]
  },
  {
   "cell_type": "code",
   "execution_count": null,
   "metadata": {},
   "outputs": [],
   "source": [
    "#It gives the freedom to add a column at any position we like and not just at the end. \n",
    "#It also provides different options for inserting the column values.\n",
    "\n",
    "# Import pandas package  \n",
    "import pandas as pd \n",
    "  \n",
    "# Define a dictionary containing Students data \n",
    "data = {'Name': ['Jai', 'Princi', 'Gaurav', 'Anuj'], \n",
    "        'Height': [5.1, 6.2, 5.1, 5.2], \n",
    "        'Qualification': ['Msc', 'MA', 'Msc', 'Msc']} \n",
    "  \n",
    "# Convert the dictionary into DataFrame \n",
    "df = pd.DataFrame(data) \n",
    "  \n",
    "# Using DataFrame.insert() to add a column \n",
    "df.insert(2, \"Age\", [21, 23, 24, 21], True) \n",
    "  \n",
    "# Observe the result \n",
    "df "
   ]
  },
  {
   "cell_type": "markdown",
   "metadata": {},
   "source": [
    "## Add using DataFrame.assign()"
   ]
  },
  {
   "cell_type": "code",
   "execution_count": null,
   "metadata": {},
   "outputs": [],
   "source": [
    "#This method will create a new dataframe with new column added to the old dataframe.\n",
    "\n",
    "# Import pandas package  \n",
    "import pandas as pd \n",
    "   \n",
    "# Define a dictionary containing Students data \n",
    "data = {'Name': ['Jai', 'Princi', 'Gaurav', 'Anuj'], \n",
    "        'Height': [5.1, 6.2, 5.1, 5.2], \n",
    "        'Qualification': ['Msc', 'MA', 'Msc', 'Msc']} \n",
    "   \n",
    "   \n",
    "# Convert the dictionary into DataFrame \n",
    "df = pd.DataFrame(data) \n",
    "  \n",
    "# Using 'Address' as the column name and equating it to the list \n",
    "df2 = df.assign(address = ['Delhi', 'Bangalore', 'Chennai', 'Patna']) \n",
    "   \n",
    "# Observe the result \n",
    "df2 "
   ]
  },
  {
   "cell_type": "markdown",
   "metadata": {},
   "source": [
    "## Add using a Dictionary"
   ]
  },
  {
   "cell_type": "code",
   "execution_count": null,
   "metadata": {},
   "outputs": [],
   "source": [
    "#We can use a Python dictionary to add a new column in pandas DataFrame. \n",
    "#Use an existing column as the key values and their respective values \n",
    "#will be the values for new column. \n",
    "\n",
    "\n",
    "# Import pandas package  \n",
    "import pandas as pd \n",
    "  \n",
    "# Define a dictionary containing Students data \n",
    "data = {'Name': ['Jai', 'Princi', 'Gaurav', 'Anuj'], \n",
    "        'Height': [5.1, 6.2, 5.1, 5.2], \n",
    "        'Qualification': ['Msc', 'MA', 'Msc', 'Msc']} \n",
    "  \n",
    "# Define a dictionary with key values of \n",
    "# an existing column and their respective \n",
    "# value pairs as the # values for our new column. \n",
    "address = {'Delhi': 'Jai', 'Bangalore': 'Princi', \n",
    "           'Patna': 'Gaurav', 'Chennai': 'Anuj'} \n",
    "  \n",
    "# Convert the dictionary into DataFrame \n",
    "df = pd.DataFrame(data) \n",
    "  \n",
    "# Provide 'Address' as the column name \n",
    "df['Address'] = address \n",
    "  \n",
    "# Observe the output \n",
    "df "
   ]
  },
  {
   "cell_type": "markdown",
   "metadata": {},
   "source": [
    "# Convert np array to pd dataframe"
   ]
  },
  {
   "cell_type": "code",
   "execution_count": null,
   "metadata": {},
   "outputs": [],
   "source": [
    "#Convert Numpy array to dataframe\n",
    "X = pd.DataFrame(data=X[1:,1:],    # values\n",
    "              index=X[1:,0],    # 1st column as index\n",
    "              columns=X[0,1:]) "
   ]
  },
  {
   "cell_type": "markdown",
   "metadata": {},
   "source": [
    "# Add columns for current date and datetime"
   ]
  },
  {
   "cell_type": "code",
   "execution_count": null,
   "metadata": {},
   "outputs": [],
   "source": [
    "#Add Columns for Current Date and DateTime\n",
    "\n",
    "from datetime import datetime\n",
    "from datetime import date\n",
    "\n",
    "currentDTTM = str(datetime.now())\n",
    "currentDate = date.today().strftime(\"%m/%d/%y\")\n",
    "\n",
    "X_train['Run_Date']= currentDate\n",
    "X_train['Date_Time']= currentDTTM"
   ]
  },
  {
   "cell_type": "markdown",
   "metadata": {},
   "source": [
    "# Transforming Data Using a Function or Mapping"
   ]
  },
  {
   "cell_type": "code",
   "execution_count": null,
   "metadata": {},
   "outputs": [],
   "source": [
    "data = pd.DataFrame({'food': ['bacon', 'pulled pork', 'bacon',\n",
    "                              'Pastrami', 'corned beef', 'Bacon',\n",
    "                              'pastrami', 'honey ham', 'nova lox'],\n",
    "                     'ounces': [4, 3, 12, 6, 7.5, 8, 3, 5, 6]})\n",
    "data"
   ]
  },
  {
   "cell_type": "code",
   "execution_count": null,
   "metadata": {},
   "outputs": [],
   "source": [
    "meat_to_animal = {\n",
    "  'bacon': 'pig',\n",
    "  'pulled pork': 'pig',\n",
    "  'pastrami': 'cow',\n",
    "  'corned beef': 'cow',\n",
    "  'honey ham': 'pig',\n",
    "  'nova lox': 'salmon'\n",
    "}"
   ]
  },
  {
   "cell_type": "code",
   "execution_count": null,
   "metadata": {},
   "outputs": [],
   "source": [
    "lowercased = data['food'].str.lower()\n",
    "lowercased\n",
    "data['animal'] = lowercased.map(meat_to_animal)\n",
    "data"
   ]
  },
  {
   "cell_type": "code",
   "execution_count": null,
   "metadata": {},
   "outputs": [],
   "source": [
    "data['food'].map(lambda x: meat_to_animal[x.lower()])"
   ]
  },
  {
   "cell_type": "markdown",
   "metadata": {},
   "source": [
    "# Regex"
   ]
  },
  {
   "cell_type": "code",
   "execution_count": 2,
   "metadata": {},
   "outputs": [],
   "source": [
    "import re\n",
    "text = \"\"\"Dave dave@google.com\n",
    "Steve steve@gmail.com\n",
    "Rob rob@gmail.com\n",
    "Ryan ryan@yahoo.com\n",
    "\"\"\"\n",
    "pattern = r'[A-Z0-9._%+-]+@[A-Z0-9.-]+\\.[A-Z]{2,4}'\n",
    "\n",
    "# re.IGNORECASE makes the regex case-insensitive\n",
    "regex = re.compile(pattern, flags=re.IGNORECASE)"
   ]
  },
  {
   "cell_type": "code",
   "execution_count": 3,
   "metadata": {},
   "outputs": [
    {
     "data": {
      "text/plain": [
       "['dave@google.com', 'steve@gmail.com', 'rob@gmail.com', 'ryan@yahoo.com']"
      ]
     },
     "execution_count": 3,
     "metadata": {},
     "output_type": "execute_result"
    }
   ],
   "source": [
    "def extract_email(text):\n",
    "    return regex.findall(text)\n",
    "\n",
    "extract_email(text)"
   ]
  },
  {
   "cell_type": "code",
   "execution_count": 4,
   "metadata": {},
   "outputs": [
    {
     "name": "stdout",
     "output_type": "stream",
     "text": [
      "Dave REDACTED\n",
      "Steve REDACTED\n",
      "Rob REDACTED\n",
      "Ryan REDACTED\n",
      "\n"
     ]
    }
   ],
   "source": [
    "print(regex.sub('REDACTED', text))"
   ]
  }
 ],
 "metadata": {
  "kernelspec": {
   "display_name": "Python 3",
   "language": "python",
   "name": "python3"
  },
  "language_info": {
   "codemirror_mode": {
    "name": "ipython",
    "version": 3
   },
   "file_extension": ".py",
   "mimetype": "text/x-python",
   "name": "python",
   "nbconvert_exporter": "python",
   "pygments_lexer": "ipython3",
   "version": "3.8.3"
  }
 },
 "nbformat": 4,
 "nbformat_minor": 2
}
